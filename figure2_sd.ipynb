{
 "cells": [
  {
   "cell_type": "code",
   "execution_count": 1,
   "id": "decf13ab-fb46-401d-a36f-98042afaeeaa",
   "metadata": {},
   "outputs": [
    {
     "name": "stdout",
     "output_type": "stream",
     "text": [
      "Amazon Basin : Sd = 8.71%\n",
      "Central Africa: Sd = 9.2%\n",
      "Southeast Asia: Sd = 17.44%\n",
      "Northen Australia: Sd = 13.46%\n",
      "Eastern United States: Sd = 10.96%\n"
     ]
    }
   ],
   "source": [
    "import rasterio\n",
    "import numpy as np\n",
    "\n",
    "\n",
    "tif_path = \"MODCF_interannualSD.tif\"\n",
    "\n",
    "\n",
    "bounding_boxes = [\n",
    "    (\"Amazon Basin \", (-14.0, 5.0, -79.5, -60.5)),\n",
    "    (\"Central Africa\", (-8.35,9.65, 6.95, 24.95)),\n",
    "    (\"Southeast Asia\", (-75.25, -70.25,-57.25, -52.25)),\n",
    "    (\"Northen Australia\", (-14.0, -11.5, 134.5, 137.0)),\n",
    "    (\"Eastern United States\", (25.0, 50.0, -125.0, -70.0))\n",
    "]\n",
    "\n",
    "with rasterio.open(tif_path) as src:\n",
    "    data = src.read(1)\n",
    "    transform = src.transform\n",
    "    nodata = src.nodata if src.nodata is not None else -9999\n",
    "    height, width = data.shape\n",
    "\n",
    "    for name, (lat_min, lat_max, lon_min, lon_max) in bounding_boxes:\n",
    "        \n",
    "        col1, row1 = ~transform * (lon_min, lat_max)\n",
    "        col2, row2 = ~transform * (lon_max, lat_min)\n",
    "\n",
    "        row_min = int(np.floor(min(row1, row2)))\n",
    "        row_max = int(np.ceil(max(row1, row2)))\n",
    "        col_min = int(np.floor(min(col1, col2)))\n",
    "        col_max = int(np.ceil(max(col1, col2)))\n",
    "\n",
    "        row_min = max(row_min, 0); row_max = min(row_max, height)\n",
    "        col_min = max(col_min, 0); col_max = min(col_max, width)\n",
    "\n",
    "        if row_min >= row_max or col_min >= col_max:\n",
    "            print(f\"{name}: Sd = N/A (Illegal index)\")\n",
    "            continue\n",
    "\n",
    "        region_data = data[row_min:row_max, col_min:col_max]\n",
    "        region_data = region_data[(region_data != nodata) & (~np.isnan(region_data))]\n",
    "\n",
    "        if region_data.size < 10:\n",
    "            print(f\"{name}: Sd = N/A (Too few effective pixels)\")\n",
    "        else:\n",
    "            mean_val = round(float(np.mean(region_data) / 100.0), 2)\n",
    "            print(f\"{name}: Sd = {mean_val}%\")\n"
   ]
  }
 ],
 "metadata": {
  "kernelspec": {
   "display_name": "Python 3 (ipykernel)",
   "language": "python",
   "name": "python3"
  },
  "language_info": {
   "codemirror_mode": {
    "name": "ipython",
    "version": 3
   },
   "file_extension": ".py",
   "mimetype": "text/x-python",
   "name": "python",
   "nbconvert_exporter": "python",
   "pygments_lexer": "ipython3",
   "version": "3.11.7"
  }
 },
 "nbformat": 4,
 "nbformat_minor": 5
}
