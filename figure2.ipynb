{
 "cells": [
  {
   "cell_type": "code",
   "execution_count": 1,
   "id": "c55c4845-0393-4b24-85b3-b80042ebd4cd",
   "metadata": {},
   "outputs": [
    {
     "name": "stdout",
     "output_type": "stream",
     "text": [
      "Amazon Basin : Mean = 74.07%\n",
      "Central Africa: Mean = 69.06%\n",
      "Southeast Asia: Mean = 69.05%\n",
      "Northen Australia: Mean = 54.07%\n",
      "Eastern United States: Mean = 51.23%\n"
     ]
    }
   ],
   "source": [
    "import rasterio\n",
    "import numpy as np\n",
    "\n",
    "\n",
    "tif_path = \"MODCF_meanannual.tif\"\n",
    "\n",
    "\n",
    "bounding_boxes = [\n",
    "    (\"Amazon Basin \", (-14.0, 5.0, -79.5, -60.5)),#done\n",
    "    (\"Central Africa\", (-8.35,9.65, 6.95, 24.95)),#done\n",
    "    (\"Southeast Asia\", (-8.5, 17.5, 93.0, 119.0)),#done\n",
    "    (\"Northen Australia\", (-14.0, -11.5, 134.5, 137.0)),#done\n",
    "    (\"Eastern United States\", (25, 50, -125, -70))#done\n",
    "]\n",
    "\n",
    "\n",
    "with rasterio.open(tif_path) as src:\n",
    "    data = src.read(1)\n",
    "    transform = src.transform\n",
    "    nodata = src.nodata if src.nodata is not None else -9999\n",
    "    height, width = data.shape\n",
    "\n",
    "    for name, (lat_min, lat_max, lon_min, lon_max) in bounding_boxes:\n",
    "        \n",
    "        col1, row1 = ~transform * (lon_min, lat_max)\n",
    "        col2, row2 = ~transform * (lon_max, lat_min)\n",
    "\n",
    "        row_min = int(np.floor(min(row1, row2)))\n",
    "        row_max = int(np.ceil(max(row1, row2)))\n",
    "        col_min = int(np.floor(min(col1, col2)))\n",
    "        col_max = int(np.ceil(max(col1, col2)))\n",
    "\n",
    "        row_min = max(row_min, 0); row_max = min(row_max, height)\n",
    "        col_min = max(col_min, 0); col_max = min(col_max, width)\n",
    "\n",
    "        if row_min >= row_max or col_min >= col_max:\n",
    "            print(f\"{name}: Mean = N/A (Illegal index)\")\n",
    "            continue\n",
    "\n",
    "        region_data = data[row_min:row_max, col_min:col_max]\n",
    "        region_data = region_data[(region_data != nodata) & (~np.isnan(region_data))]\n",
    "\n",
    "        if region_data.size < 10:\n",
    "            print(f\"{name}: Mean = N/A (Too few effective pixels)\")\n",
    "        else:\n",
    "            mean_val = round(float(np.mean(region_data) / 100.0), 2)\n",
    "            print(f\"{name}: Mean = {mean_val}%\")\n"
   ]
  }
 ],
 "metadata": {
  "kernelspec": {
   "display_name": "Python 3 (ipykernel)",
   "language": "python",
   "name": "python3"
  },
  "language_info": {
   "codemirror_mode": {
    "name": "ipython",
    "version": 3
   },
   "file_extension": ".py",
   "mimetype": "text/x-python",
   "name": "python",
   "nbconvert_exporter": "python",
   "pygments_lexer": "ipython3",
   "version": "3.11.7"
  }
 },
 "nbformat": 4,
 "nbformat_minor": 5
}
